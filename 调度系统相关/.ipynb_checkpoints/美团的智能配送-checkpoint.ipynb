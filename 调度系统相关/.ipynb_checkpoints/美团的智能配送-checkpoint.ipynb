{
 "cells": [
  {
   "cell_type": "markdown",
   "id": "ea5b3e38",
   "metadata": {},
   "source": [
    "## 智能配送\n",
    "\n",
    "* .[外卖配送](#外卖配送)"
   ]
  },
  {
   "cell_type": "markdown",
   "id": "17e12a45",
   "metadata": {},
   "source": [
    "### 外卖配送\n",
    "\n",
    "外卖配送是一个典型的O2O场景。既有线上的业务，也有线下的复杂运营。配送连接订单需求和运力供给。为了达到需求和供给的平衡，不仅要在线下运营商家、运营骑手，还要在线上将这些需求和运力供给做合理的配置，其目的是提高整体的效率。只有将配送效率最大化，才能带来良好的顾客体验，实现较低的配送成本。"
   ]
  },
  {
   "cell_type": "markdown",
   "id": "b0d9f640",
   "metadata": {},
   "source": [
    "### 三层\n",
    "\n",
    "做资源优化配置的过程，实际上是有分层的\n",
    "\n",
    "- 调度系统,负责实时匹配,达到最优匹配\n",
    "- 定价系统和营销系统,负责达到供需均衡\n",
    "- 规划系统,负责结构优化,长期来提升效率上限"
   ]
  },
  {
   "cell_type": "markdown",
   "id": "b62a8a4a",
   "metadata": {},
   "source": [
    "### 商家区域划分\n",
    "\n",
    "类似于供应链,末端的旗手对负责区域的熟悉程度决定了效率.  \n",
    "把骑手站和商家区域做一个合理的匹配和划分构成了重要的一环.\n",
    "以骑手每单距离为优化目标来划定商家范围边界."
   ]
  },
  {
   "cell_type": "markdown",
   "id": "cc68b97d",
   "metadata": {},
   "source": [
    "### 骑手排班\n",
    "\n",
    "订单时间上分布不一致,店长负责骑手排班.离散化时间,以组为单位来分配骑手.\n",
    "归一化骑手组和订单量,以骑手组和订单量匹配度最高为目标."
   ]
  },
  {
   "cell_type": "code",
   "execution_count": 7,
   "id": "49fb80c2",
   "metadata": {},
   "outputs": [
    {
     "data": {
      "text/plain": [
       "113400.0"
      ]
     },
     "execution_count": 7,
     "metadata": {},
     "output_type": "execute_result"
    }
   ],
   "source": [
    "# 一个骑手要送5单,路线选择为11.34w\n",
    "from functools import (\n",
    "    lru_cache, reduce\n",
    ")\n",
    "\n",
    "\n",
    "@lru_cache(None)\n",
    "def f(k: int) -> int:\n",
    "    \"\"\"k个单的路线选择数量\n",
    "    \n",
    "    每多一单,则新增的单可以分配在之前k-1单的取送共2*(k-1)的位置前后和之间,共2k个位置,插入取的任务,送的位置为取的位置之后\n",
    "    \"\"\"\n",
    "    if k == 1: return 1\n",
    "    return f(k - 1) * (2 * k * (2 * k - 1)/2)\n",
    "\n",
    "\n",
    "\n",
    "f(5)"
   ]
  },
  {
   "cell_type": "markdown",
   "id": "8e7ede4c",
   "metadata": {},
   "source": [
    "### 骑手路线规划\n",
    "\n",
    "骑手和取送餐地点的路线规划是个np-hard问题,求解时间会随着问题规模扩大而指数增长.  \n",
    "通过定向搜索和对问题结构了解来保证启发式算法的优化效果稳定以及时间短."
   ]
  },
  {
   "cell_type": "code",
   "execution_count": null,
   "id": "9468284e",
   "metadata": {},
   "outputs": [],
   "source": []
  }
 ],
 "metadata": {
  "kernelspec": {
   "display_name": "Python 3",
   "language": "python",
   "name": "python3"
  },
  "language_info": {
   "codemirror_mode": {
    "name": "ipython",
    "version": 3
   },
   "file_extension": ".py",
   "mimetype": "text/x-python",
   "name": "python",
   "nbconvert_exporter": "python",
   "pygments_lexer": "ipython3",
   "version": "3.7.3"
  }
 },
 "nbformat": 4,
 "nbformat_minor": 5
}
